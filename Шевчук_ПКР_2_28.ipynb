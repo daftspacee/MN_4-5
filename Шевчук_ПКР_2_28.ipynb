{
  "nbformat": 4,
  "nbformat_minor": 0,
  "metadata": {
    "colab": {
      "provenance": []
    },
    "kernelspec": {
      "name": "python3",
      "display_name": "Python 3"
    },
    "language_info": {
      "name": "python"
    }
  },
  "cells": [
    {
      "cell_type": "code",
      "execution_count": 1,
      "metadata": {
        "colab": {
          "base_uri": "https://localhost:8080/"
        },
        "id": "ym65gRDDOAPZ",
        "outputId": "8981124b-186f-4ae6-af9c-777a6b0d7d3b"
      },
      "outputs": [
        {
          "output_type": "stream",
          "name": "stdout",
          "text": [
            "Collecting surprise\n",
            "  Downloading surprise-0.1-py2.py3-none-any.whl (1.8 kB)\n",
            "Collecting scikit-surprise (from surprise)\n",
            "  Downloading scikit-surprise-1.1.3.tar.gz (771 kB)\n",
            "\u001b[2K     \u001b[90m━━━━━━━━━━━━━━━━━━━━━━━━━━━━━━━━━━━━━━━━\u001b[0m \u001b[32m772.0/772.0 kB\u001b[0m \u001b[31m10.6 MB/s\u001b[0m eta \u001b[36m0:00:00\u001b[0m\n",
            "\u001b[?25h  Preparing metadata (setup.py) ... \u001b[?25l\u001b[?25hdone\n",
            "Requirement already satisfied: joblib>=1.0.0 in /usr/local/lib/python3.10/dist-packages (from scikit-surprise->surprise) (1.3.2)\n",
            "Requirement already satisfied: numpy>=1.17.3 in /usr/local/lib/python3.10/dist-packages (from scikit-surprise->surprise) (1.23.5)\n",
            "Requirement already satisfied: scipy>=1.3.2 in /usr/local/lib/python3.10/dist-packages (from scikit-surprise->surprise) (1.11.4)\n",
            "Building wheels for collected packages: scikit-surprise\n",
            "  Building wheel for scikit-surprise (setup.py) ... \u001b[?25l\u001b[?25hdone\n",
            "  Created wheel for scikit-surprise: filename=scikit_surprise-1.1.3-cp310-cp310-linux_x86_64.whl size=3163745 sha256=622ab3eae35c4e5645035d7b0026b6cacd58017142bdce8bd489075a2d5c9fde\n",
            "  Stored in directory: /root/.cache/pip/wheels/a5/ca/a8/4e28def53797fdc4363ca4af740db15a9c2f1595ebc51fb445\n",
            "Successfully built scikit-surprise\n",
            "Installing collected packages: scikit-surprise, surprise\n",
            "Successfully installed scikit-surprise-1.1.3 surprise-0.1\n"
          ]
        }
      ],
      "source": [
        "pip install surprise"
      ]
    },
    {
      "cell_type": "code",
      "source": [
        "from surprise import Dataset, Reader, SVD, SVDpp, NMF, KNNBasic, KNNBaseline\n",
        "from surprise.model_selection import cross_validate\n",
        "import matplotlib.pyplot as plt"
      ],
      "metadata": {
        "id": "JDixZrdBOHNA"
      },
      "execution_count": 2,
      "outputs": []
    },
    {
      "cell_type": "code",
      "source": [
        "#Load Movielens-100k dataset\n",
        "data = Dataset.load_builtin('ml-100k')"
      ],
      "metadata": {
        "id": "_0tvzXX3PJA4",
        "colab": {
          "base_uri": "https://localhost:8080/"
        },
        "outputId": "f6ba3223-ae75-451b-829c-f175e0af0abc"
      },
      "execution_count": 3,
      "outputs": [
        {
          "output_type": "stream",
          "name": "stdout",
          "text": [
            "Dataset ml-100k could not be found. Do you want to download it? [Y/n] y\n",
            "Trying to download dataset from https://files.grouplens.org/datasets/movielens/ml-100k.zip...\n",
            "Done! Dataset ml-100k has been saved to /root/.surprise_data/ml-100k\n"
          ]
        }
      ]
    },
    {
      "cell_type": "code",
      "source": [
        "#Variables for algorithms\n",
        "algo_svd = SVD()\n",
        "algo_svdpp = SVDpp()\n",
        "algo_nmf = NMF()\n",
        "algo_knnbasic = KNNBasic()\n",
        "algo_knnbaseline = KNNBaseline()"
      ],
      "metadata": {
        "id": "yPbHdOQkQpDY"
      },
      "execution_count": 4,
      "outputs": []
    },
    {
      "cell_type": "code",
      "source": [
        "#Cross-validation\n",
        "cv_svd = cross_validate(algo_svd, data, measures=[\"rmse\"], cv=4, verbose=True)\n",
        "cv_svdpp = cross_validate(algo_svdpp, data, measures=[\"rmse\"], cv=4, verbose=True)\n",
        "cv_nmf = cross_validate(algo_nmf, data, measures=[\"rmse\"], cv=4, verbose=True)\n",
        "cv_knnbasic = cross_validate(algo_knnbasic, data, measures=[\"rmse\"], cv=4, verbose=True)\n",
        "cv_knnbaseline = cross_validate(algo_knnbaseline, data, measures=[\"rmse\"], cv=4, verbose=True)"
      ],
      "metadata": {
        "colab": {
          "base_uri": "https://localhost:8080/"
        },
        "id": "RZmG2AC_Q_Eb",
        "outputId": "51e1ab82-ebf6-43a8-9c85-5a0150ec5bd8"
      },
      "execution_count": 5,
      "outputs": [
        {
          "output_type": "stream",
          "name": "stdout",
          "text": [
            "Evaluating RMSE of algorithm SVD on 4 split(s).\n",
            "\n",
            "                  Fold 1  Fold 2  Fold 3  Fold 4  Mean    Std     \n",
            "RMSE (testset)    0.9320  0.9396  0.9459  0.9365  0.9385  0.0050  \n",
            "Fit time          2.38    2.11    1.33    1.39    1.80    0.45    \n",
            "Test time         0.34    0.24    0.24    0.28    0.27    0.04    \n",
            "Evaluating RMSE of algorithm SVDpp on 4 split(s).\n",
            "\n",
            "                  Fold 1  Fold 2  Fold 3  Fold 4  Mean    Std     \n",
            "RMSE (testset)    0.9212  0.9221  0.9229  0.9184  0.9211  0.0017  \n",
            "Fit time          24.14   23.62   27.88   28.28   25.98   2.11    \n",
            "Test time         5.97    6.69    5.00    6.04    5.92    0.60    \n",
            "Evaluating RMSE of algorithm NMF on 4 split(s).\n",
            "\n",
            "                  Fold 1  Fold 2  Fold 3  Fold 4  Mean    Std     \n",
            "RMSE (testset)    0.9632  0.9642  0.9608  0.9745  0.9657  0.0053  \n",
            "Fit time          2.29    1.98    1.97    1.98    2.06    0.14    \n",
            "Test time         0.23    0.23    0.13    0.24    0.21    0.04    \n",
            "Computing the msd similarity matrix...\n",
            "Done computing similarity matrix.\n",
            "Computing the msd similarity matrix...\n",
            "Done computing similarity matrix.\n",
            "Computing the msd similarity matrix...\n",
            "Done computing similarity matrix.\n",
            "Computing the msd similarity matrix...\n",
            "Done computing similarity matrix.\n",
            "Evaluating RMSE of algorithm KNNBasic on 4 split(s).\n",
            "\n",
            "                  Fold 1  Fold 2  Fold 3  Fold 4  Mean    Std     \n",
            "RMSE (testset)    0.9771  0.9829  0.9858  0.9836  0.9824  0.0032  \n",
            "Fit time          0.30    0.34    0.32    0.33    0.33    0.01    \n",
            "Test time         5.34    3.68    3.77    5.57    4.59    0.87    \n",
            "Estimating biases using als...\n",
            "Computing the msd similarity matrix...\n",
            "Done computing similarity matrix.\n",
            "Estimating biases using als...\n",
            "Computing the msd similarity matrix...\n",
            "Done computing similarity matrix.\n",
            "Estimating biases using als...\n",
            "Computing the msd similarity matrix...\n",
            "Done computing similarity matrix.\n",
            "Estimating biases using als...\n",
            "Computing the msd similarity matrix...\n",
            "Done computing similarity matrix.\n",
            "Evaluating RMSE of algorithm KNNBaseline on 4 split(s).\n",
            "\n",
            "                  Fold 1  Fold 2  Fold 3  Fold 4  Mean    Std     \n",
            "RMSE (testset)    0.9334  0.9338  0.9294  0.9298  0.9316  0.0020  \n",
            "Fit time          0.57    0.64    0.72    0.64    0.64    0.05    \n",
            "Test time         4.20    4.97    4.95    4.33    4.61    0.35    \n"
          ]
        }
      ]
    },
    {
      "cell_type": "code",
      "source": [
        "#Find mean of RMSE\n",
        "rmse_svd = cv_svd['test_rmse'].mean()\n",
        "rmse_svdpp = cv_svdpp['test_rmse'].mean()\n",
        "rmse_nmf = cv_nmf['test_rmse'].mean()\n",
        "rmse_knnbasic = cv_knnbasic['test_rmse'].mean()\n",
        "rmse_knnbaseline = cv_knnbaseline['test_rmse'].mean()\n",
        "\n",
        "print(f\"SVD = {rmse_svd}\")\n",
        "print(f\"SVDpp = {rmse_svdpp}\")\n",
        "print(f\"NMF = {rmse_nmf}\")\n",
        "print(f\"KNNBasic = {rmse_knnbasic}\")\n",
        "print(f\"KNNBaseline = {rmse_knnbaseline}\")"
      ],
      "metadata": {
        "colab": {
          "base_uri": "https://localhost:8080/"
        },
        "id": "Cbj4baSuRvjF",
        "outputId": "b7752313-9d59-47f9-c2f8-65f9445dfb54"
      },
      "execution_count": 6,
      "outputs": [
        {
          "output_type": "stream",
          "name": "stdout",
          "text": [
            "SVD = 0.9384858178729564\n",
            "SVDpp = 0.9211418292599303\n",
            "NMF = 0.9656997875019568\n",
            "KNNBasic = 0.9823734689216055\n",
            "KNNBaseline = 0.931617550062358\n"
          ]
        }
      ]
    },
    {
      "cell_type": "markdown",
      "source": [
        "# **Висновки:** після оцінки всіх п'яти алгоритмів було помічено, що SVDpp показав найнижче значення RMSE серед них. Цей результат свідчить про те, що в контексті набору даних Movielens алгоритм SVDpp є найоптимальнішим відносно точності прогнозування та продуктивності."
      ],
      "metadata": {
        "id": "vU1PlAhtS-Bv"
      }
    },
    {
      "cell_type": "code",
      "source": [
        "rmse_variables = [rmse_svd, rmse_svdpp, rmse_nmf, rmse_knnbasic, rmse_knnbaseline]\n",
        "algos = [\"SVD\", \"SVDpp\", \"NMF\", \"KNNBasic\", \"KNNBaseline\"]\n",
        "plt.style.use('https://github.com/dhaitz/matplotlib-stylesheets/raw/master/pitayasmoothie-dark.mplstyle')\n",
        "plt.bar(algos, rmse_variables, color=['lightgreen', 'lightblue', 'red', 'purple', 'orange'])\n",
        "plt.title(\"Comparison table of RMSE values\")\n",
        "plt.xlabel(\"Algorithms\")\n",
        "plt.ylabel(\"RMSE Values\")\n",
        "plt.ylim(0.9, 1.0)\n",
        "plt.show()"
      ],
      "metadata": {
        "colab": {
          "base_uri": "https://localhost:8080/",
          "height": 465
        },
        "id": "27m7vgMiTiS_",
        "outputId": "e0fe377c-ac1b-42af-ac39-81a001705d48"
      },
      "execution_count": 7,
      "outputs": [
        {
          "output_type": "display_data",
          "data": {
            "text/plain": [
              "<Figure size 640x480 with 1 Axes>"
            ],
            "image/png": "[encoded data removed]"
          },
          "metadata": {}
        }
      ]
    }
  ]
}