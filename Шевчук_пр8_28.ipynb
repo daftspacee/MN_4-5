{
  "nbformat": 4,
  "nbformat_minor": 0,
  "metadata": {
    "colab": {
      "provenance": []
    },
    "kernelspec": {
      "name": "python3",
      "display_name": "Python 3"
    },
    "language_info": {
      "name": "python"
    }
  },
  "cells": [
    {
      "cell_type": "code",
      "execution_count": 1,
      "metadata": {
        "colab": {
          "base_uri": "https://localhost:8080/"
        },
        "id": "ym65gRDDOAPZ",
        "outputId": "713b07f6-03a1-4a38-cd45-d960a2323a40"
      },
      "outputs": [
        {
          "output_type": "stream",
          "name": "stdout",
          "text": [
            "Collecting surprise\n",
            "  Downloading surprise-0.1-py2.py3-none-any.whl (1.8 kB)\n",
            "Collecting scikit-surprise (from surprise)\n",
            "  Downloading scikit-surprise-1.1.3.tar.gz (771 kB)\n",
            "\u001b[?25l     \u001b[90m━━━━━━━━━━━━━━━━━━━━━━━━━━━━━━━━━━━━━━━━\u001b[0m \u001b[32m0.0/772.0 kB\u001b[0m \u001b[31m?\u001b[0m eta \u001b[36m-:--:--\u001b[0m\r\u001b[2K     \u001b[91m━━━━━━━━━━━━\u001b[0m\u001b[90m╺\u001b[0m\u001b[90m━━━━━━━━━━━━━━━━━━━━━━━━━━━\u001b[0m \u001b[32m235.5/772.0 kB\u001b[0m \u001b[31m7.1 MB/s\u001b[0m eta \u001b[36m0:00:01\u001b[0m\r\u001b[2K     \u001b[91m━━━━━━━━━━━━━━━━━━━━━━━━━━━━━━━━━\u001b[0m\u001b[90m╺\u001b[0m\u001b[90m━━━━━━\u001b[0m \u001b[32m645.1/772.0 kB\u001b[0m \u001b[31m9.4 MB/s\u001b[0m eta \u001b[36m0:00:01\u001b[0m\r\u001b[2K     \u001b[90m━━━━━━━━━━━━━━━━━━━━━━━━━━━━━━━━━━━━━━━━\u001b[0m \u001b[32m772.0/772.0 kB\u001b[0m \u001b[31m9.0 MB/s\u001b[0m eta \u001b[36m0:00:00\u001b[0m\n",
            "\u001b[?25h  Preparing metadata (setup.py) ... \u001b[?25l\u001b[?25hdone\n",
            "Requirement already satisfied: joblib>=1.0.0 in /usr/local/lib/python3.10/dist-packages (from scikit-surprise->surprise) (1.3.2)\n",
            "Requirement already satisfied: numpy>=1.17.3 in /usr/local/lib/python3.10/dist-packages (from scikit-surprise->surprise) (1.23.5)\n",
            "Requirement already satisfied: scipy>=1.3.2 in /usr/local/lib/python3.10/dist-packages (from scikit-surprise->surprise) (1.11.4)\n",
            "Building wheels for collected packages: scikit-surprise\n",
            "  Building wheel for scikit-surprise (setup.py) ... \u001b[?25l\u001b[?25hdone\n",
            "  Created wheel for scikit-surprise: filename=scikit_surprise-1.1.3-cp310-cp310-linux_x86_64.whl size=3163755 sha256=654873620b3c59880128961de4b39c8fa17e1112a06541916010a501f556c0b2\n",
            "  Stored in directory: /root/.cache/pip/wheels/a5/ca/a8/4e28def53797fdc4363ca4af740db15a9c2f1595ebc51fb445\n",
            "Successfully built scikit-surprise\n",
            "Installing collected packages: scikit-surprise, surprise\n",
            "Successfully installed scikit-surprise-1.1.3 surprise-0.1\n"
          ]
        }
      ],
      "source": [
        "pip install surprise"
      ]
    },
    {
      "cell_type": "code",
      "source": [
        "from surprise import Dataset, Reader, SVD, SVDpp, NMF, KNNBasic, KNNBaseline\n",
        "from surprise.model_selection import cross_validate\n",
        "import matplotlib.pyplot as plt"
      ],
      "metadata": {
        "id": "JDixZrdBOHNA"
      },
      "execution_count": 4,
      "outputs": []
    },
    {
      "cell_type": "code",
      "source": [
        "#Load Movielens-100k dataset\n",
        "data = Dataset.load_builtin('ml-100k')"
      ],
      "metadata": {
        "id": "_0tvzXX3PJA4",
        "colab": {
          "base_uri": "https://localhost:8080/"
        },
        "outputId": "fb374832-0514-408f-c08c-f81ad556be9d"
      },
      "execution_count": 5,
      "outputs": [
        {
          "output_type": "stream",
          "name": "stdout",
          "text": [
            "Dataset ml-100k could not be found. Do you want to download it? [Y/n] y\n",
            "Trying to download dataset from https://files.grouplens.org/datasets/movielens/ml-100k.zip...\n",
            "Done! Dataset ml-100k has been saved to /root/.surprise_data/ml-100k\n"
          ]
        }
      ]
    },
    {
      "cell_type": "code",
      "source": [
        "#Variables for algorithms\n",
        "algo_svd = SVD()\n",
        "algo_svdpp = SVDpp()\n",
        "algo_nmf = NMF()\n",
        "algo_knnbasic = KNNBasic()\n",
        "algo_knnbaseline = KNNBaseline()"
      ],
      "metadata": {
        "id": "yPbHdOQkQpDY"
      },
      "execution_count": 6,
      "outputs": []
    },
    {
      "cell_type": "code",
      "source": [
        "#Cross-validation\n",
        "cv_svd = cross_validate(algo_svd, data, measures=[\"rmse\"], cv=4, verbose=True)\n",
        "cv_svdpp = cross_validate(algo_svdpp, data, measures=[\"rmse\"], cv=4, verbose=True)\n",
        "cv_nmf = cross_validate(algo_nmf, data, measures=[\"rmse\"], cv=4, verbose=True)\n",
        "cv_knnbasic = cross_validate(algo_knnbasic, data, measures=[\"rmse\"], cv=4, verbose=True)\n",
        "cv_knnbaseline = cross_validate(algo_knnbaseline, data, measures=[\"rmse\"], cv=4, verbose=True)"
      ],
      "metadata": {
        "colab": {
          "base_uri": "https://localhost:8080/"
        },
        "id": "RZmG2AC_Q_Eb",
        "outputId": "45fadd87-b358-4674-e80b-9bddb16a410d"
      },
      "execution_count": 7,
      "outputs": [
        {
          "output_type": "stream",
          "name": "stdout",
          "text": [
            "Evaluating RMSE of algorithm SVD on 4 split(s).\n",
            "\n",
            "                  Fold 1  Fold 2  Fold 3  Fold 4  Mean    Std     \n",
            "RMSE (testset)    0.9424  0.9392  0.9379  0.9375  0.9392  0.0019  \n",
            "Fit time          0.91    1.52    0.82    0.88    1.03    0.28    \n",
            "Test time         0.20    0.16    0.17    0.11    0.16    0.03    \n",
            "Evaluating RMSE of algorithm SVDpp on 4 split(s).\n",
            "\n",
            "                  Fold 1  Fold 2  Fold 3  Fold 4  Mean    Std     \n",
            "RMSE (testset)    0.9205  0.9263  0.9231  0.9245  0.9236  0.0021  \n",
            "Fit time          22.87   22.70   22.32   22.28   22.54   0.25    \n",
            "Test time         4.54    4.53    5.05    4.97    4.77    0.24    \n",
            "Evaluating RMSE of algorithm NMF on 4 split(s).\n",
            "\n",
            "                  Fold 1  Fold 2  Fold 3  Fold 4  Mean    Std     \n",
            "RMSE (testset)    0.9731  0.9709  0.9704  0.9633  0.9694  0.0037  \n",
            "Fit time          1.49    1.41    1.50    1.42    1.45    0.04    \n",
            "Test time         0.15    0.16    0.09    0.16    0.14    0.03    \n",
            "Computing the msd similarity matrix...\n",
            "Done computing similarity matrix.\n",
            "Computing the msd similarity matrix...\n",
            "Done computing similarity matrix.\n",
            "Computing the msd similarity matrix...\n",
            "Done computing similarity matrix.\n",
            "Computing the msd similarity matrix...\n",
            "Done computing similarity matrix.\n",
            "Evaluating RMSE of algorithm KNNBasic on 4 split(s).\n",
            "\n",
            "                  Fold 1  Fold 2  Fold 3  Fold 4  Mean    Std     \n",
            "RMSE (testset)    0.9837  0.9729  0.9879  0.9836  0.9820  0.0055  \n",
            "Fit time          0.28    0.22    0.26    0.20    0.24    0.03    \n",
            "Test time         3.30    2.50    2.63    2.69    2.78    0.31    \n",
            "Estimating biases using als...\n",
            "Computing the msd similarity matrix...\n",
            "Done computing similarity matrix.\n",
            "Estimating biases using als...\n",
            "Computing the msd similarity matrix...\n",
            "Done computing similarity matrix.\n",
            "Estimating biases using als...\n",
            "Computing the msd similarity matrix...\n",
            "Done computing similarity matrix.\n",
            "Estimating biases using als...\n",
            "Computing the msd similarity matrix...\n",
            "Done computing similarity matrix.\n",
            "Evaluating RMSE of algorithm KNNBaseline on 4 split(s).\n",
            "\n",
            "                  Fold 1  Fold 2  Fold 3  Fold 4  Mean    Std     \n",
            "RMSE (testset)    0.9357  0.9312  0.9361  0.9267  0.9324  0.0038  \n",
            "Fit time          0.41    0.28    0.29    0.38    0.34    0.06    \n",
            "Test time         3.58    3.02    2.95    4.20    3.44    0.50    \n"
          ]
        }
      ]
    },
    {
      "cell_type": "code",
      "source": [
        "#Find mean of RMSE\n",
        "rmse_svd = cv_svd['test_rmse'].mean()\n",
        "rmse_svdpp = cv_svdpp['test_rmse'].mean()\n",
        "rmse_nmf = cv_nmf['test_rmse'].mean()\n",
        "rmse_knnbasic = cv_knnbasic['test_rmse'].mean()\n",
        "rmse_knnbaseline = cv_knnbaseline['test_rmse'].mean()\n",
        "\n",
        "print(f\"SVD = {rmse_svd}\")\n",
        "print(f\"SVDpp = {rmse_svdpp}\")\n",
        "print(f\"NMF = {rmse_nmf}\")\n",
        "print(f\"KNNBasic = {rmse_knnbasic}\")\n",
        "print(f\"KNNBaseline = {rmse_knnbaseline}\")"
      ],
      "metadata": {
        "colab": {
          "base_uri": "https://localhost:8080/"
        },
        "id": "Cbj4baSuRvjF",
        "outputId": "36bcfb53-c714-4fef-c100-0632b5da4aec"
      },
      "execution_count": 8,
      "outputs": [
        {
          "output_type": "stream",
          "name": "stdout",
          "text": [
            "SVD = 0.9392465696278982\n",
            "SVDpp = 0.9235980929959089\n",
            "NMF = 0.9694351607389715\n",
            "KNNBasic = 0.9820039273582997\n",
            "KNNBaseline = 0.9324280302432952\n"
          ]
        }
      ]
    },
    {
      "cell_type": "markdown",
      "source": [
        "# **Conclusion:** After evaluating all five algorithms, it was observed that SVDpp yielded the lowest RMSE among them. This outcome signifies that, within the context of the Movielens dataset, the SVDpp algorithm is the most optimal choice in terms of predictive accuracy and performance."
      ],
      "metadata": {
        "id": "vU1PlAhtS-Bv"
      }
    },
    {
      "cell_type": "code",
      "source": [
        "rmse_variables = [rmse_svd, rmse_svdpp, rmse_nmf, rmse_knnbasic, rmse_knnbaseline]\n",
        "algos = [\"SVD\", \"SVDpp\", \"NMF\", \"KNNBasic\", \"KNNBaseline\"]\n",
        "plt.style.use('https://github.com/dhaitz/matplotlib-stylesheets/raw/master/pitayasmoothie-dark.mplstyle')\n",
        "plt.bar(algos, rmse_variables, color=['lightgreen', 'lightblue', 'red', 'purple', 'orange'])\n",
        "plt.title(\"Comparison table of RMSE values\")\n",
        "plt.xlabel(\"Algorithms\")\n",
        "plt.ylabel(\"RMSE Values\")\n",
        "plt.ylim(0.9, 1.0)\n",
        "plt.show()"
      ],
      "metadata": {
        "colab": {
          "base_uri": "https://localhost:8080/",
          "height": 465
        },
        "id": "27m7vgMiTiS_",
        "outputId": "a6ad805f-a703-4e3a-ee3a-3a9cb7632500"
      },
      "execution_count": 9,
      "outputs": [
        {
          "output_type": "display_data",
          "data": {
            "text/plain": [
              "<Figure size 640x480 with 1 Axes>"
            ],
            "image/png": "[encoded data removed]"
          },
          "metadata": {}
        }
      ]
    },
    {
      "cell_type": "markdown",
      "source": [
        "# **Висновок:** під час проведення лабораторної роботи, я отримав досвід у завантаженні та роботі з різноманітними наборами даних та алгоритмами. Ця практика дозволила мені отримати багато нової інформації про різноманітні модулі для роботи з даними та алгоритмами машинного навчання. Крім того, я вивчав та застосовував середньоквадратичну похибку для оцінки точності різних алгоритмів."
      ],
      "metadata": {
        "id": "P-x55nUqWdln"
      }
    }
  ]
}